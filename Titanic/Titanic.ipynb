{
 "cells": [
  {
   "cell_type": "markdown",
   "metadata": {},
   "source": [
    "# Titanic"
   ]
  },
  {
   "cell_type": "markdown",
   "metadata": {},
   "source": [
    "Brytyjski transatlantyk typu Olympic w chwili wodowania - 31 maja 1911 - był największym parowym statkiem pasażerskim na świecie. "
   ]
  },
  {
   "cell_type": "markdown",
   "metadata": {},
   "source": [
    "![](https://pngimg.com/uploads/titanic/titanic_PNG1.png)"
   ]
  },
  {
   "cell_type": "markdown",
   "metadata": {},
   "source": [
    "10 kwietnia 1912 roku Titanic wyruszył w swój dziewiczy rejs na trasie Southampton – Cherbourg – Queenstown – Nowy Jork."
   ]
  },
  {
   "cell_type": "markdown",
   "metadata": {},
   "source": [
    "![](https://upload.wikimedia.org/wikipedia/commons/thumb/a/af/TitanicRoute.svg/1280px-TitanicRoute.svg.png)"
   ]
  },
  {
   "cell_type": "markdown",
   "metadata": {},
   "source": [
    "W nocy z 14 na 15 kwietnia 1912 roku zderzył się z górą lodową i zatonął."
   ]
  },
  {
   "cell_type": "markdown",
   "metadata": {},
   "source": [
    "Katastrofę Titanica przeżyło około 750 osób. Około 1500 zginęło. "
   ]
  },
  {
   "cell_type": "markdown",
   "metadata": {},
   "source": [
    "## Kto przetrwał? Co miało wpływ na przeżycie?"
   ]
  },
  {
   "cell_type": "code",
   "execution_count": 201,
   "metadata": {},
   "outputs": [],
   "source": [
    "import pandas as pd\n",
    "import numpy as np\n",
    "\n",
    "from sklearn.dummy import DummyClassifier\n",
    "from sklearn.linear_model import LogisticRegression\n",
    "from sklearn.linear_model import SGDClassifier\n",
    "from sklearn.tree import DecisionTreeClassifier\n",
    "from sklearn.ensemble import RandomForestClassifier\n",
    "from sklearn.ensemble import ExtraTreesClassifier\n",
    "from sklearn.model_selection import cross_validate\n",
    "from sklearn.model_selection import train_test_split\n",
    "from sklearn.metrics import accuracy_score\n",
    "import matplotlib.pyplot as plt\n",
    "%matplotlib inline"
   ]
  },
  {
   "cell_type": "code",
   "execution_count": 202,
   "metadata": {},
   "outputs": [],
   "source": [
    "df_train = pd.read_csv('https://storage.googleapis.com/kaggle-competitions-data/kaggle/3136/train.csv?GoogleAccessId=web-data@kaggle-161607.iam.gserviceaccount.com&Expires=1556181090&Signature=GGSjgK2MeCF4hpegbMGbQexr9Cqlz4mNv3WAuj0555h4PJ4rxxVUJcjpMi%2F7TbMX5YC9SrfSYkQtLvME2JchTq7EER8mcUkATHFlwB9i4FSnvLz%2BVl9RmDvsFe%2Fa%2B3DnEcWXhxXAK00SVTWOtZif7vn36xuSzU7JQFfgifx2NefxlV4nUGxiuDkTl5iK2QoE6AMvvFqr6uf799VDfeeWLwEDzXAPVxyS9Mzor6Q9OqM4Mr%2FUg1k9wxjRjXwe8Z45r1kqg%2FzyIJQI8uOu8cXWoB7nLIGG6j8C1Ir7ItAn2ZSiNAqHkyUJikpPhBaxHLJ38dFpUeP9iAgD9tbKLMbZqg%3D%3D')\n",
    "df_test = pd.read_csv('https://storage.googleapis.com/kaggle-competitions-data/kaggle/3136/test.csv?GoogleAccessId=web-data@kaggle-161607.iam.gserviceaccount.com&Expires=1556180762&Signature=KiHni6%2BBkMhBO5VspbkH7CK%2BtzN7kD%2BuYbc28rivoNkE1Sdz6HbE%2F2jd%2B03CeVGLjkukjwFSTMg6Ik3qA1zdwJalEqXpfn%2BHNHQWhMVYim3q2HP9OUi%2F6n4jMxVvL5wYt1hTKfCUlsNAu2s6i0MdBeQ9CE8uGttY55hsZF1Mvx3EF10ljyxezamNaRTkELbnZS0kkujhLKmJubE7byRg4G%2BoCD2uZ%2FUAoqkQxIdF7v58v0xdrrzFNQ%2FRvufSLjgsOBf2jOZqQy%2BjvkAqMIjK7QFH7jbk2OfGfJ6dOAr0sbis424SVmiFxiXty5MqJv1cRQ3lGeIBPD6V%2F5eZxTOFfw%3D%3D')"
   ]
  },
  {
   "cell_type": "code",
   "execution_count": 203,
   "metadata": {},
   "outputs": [
    {
     "data": {
      "text/html": [
       "<div>\n",
       "<style scoped>\n",
       "    .dataframe tbody tr th:only-of-type {\n",
       "        vertical-align: middle;\n",
       "    }\n",
       "\n",
       "    .dataframe tbody tr th {\n",
       "        vertical-align: top;\n",
       "    }\n",
       "\n",
       "    .dataframe thead th {\n",
       "        text-align: right;\n",
       "    }\n",
       "</style>\n",
       "<table border=\"1\" class=\"dataframe\">\n",
       "  <thead>\n",
       "    <tr style=\"text-align: right;\">\n",
       "      <th></th>\n",
       "      <th>PassengerId</th>\n",
       "      <th>Survived</th>\n",
       "      <th>Pclass</th>\n",
       "      <th>Name</th>\n",
       "      <th>Sex</th>\n",
       "      <th>Age</th>\n",
       "      <th>SibSp</th>\n",
       "      <th>Parch</th>\n",
       "      <th>Ticket</th>\n",
       "      <th>Fare</th>\n",
       "      <th>Cabin</th>\n",
       "      <th>Embarked</th>\n",
       "      <th>Sex_cat</th>\n",
       "      <th>Family</th>\n",
       "      <th>Formula</th>\n",
       "    </tr>\n",
       "  </thead>\n",
       "  <tbody>\n",
       "    <tr>\n",
       "      <th>772</th>\n",
       "      <td>773</td>\n",
       "      <td>0</td>\n",
       "      <td>2</td>\n",
       "      <td>Mack, Mrs. (Mary)</td>\n",
       "      <td>female</td>\n",
       "      <td>57.0</td>\n",
       "      <td>0</td>\n",
       "      <td>0</td>\n",
       "      <td>S.O./P.P. 3</td>\n",
       "      <td>10.5000</td>\n",
       "      <td>E77</td>\n",
       "      <td>S</td>\n",
       "      <td>1</td>\n",
       "      <td>0</td>\n",
       "      <td>-1</td>\n",
       "    </tr>\n",
       "    <tr>\n",
       "      <th>530</th>\n",
       "      <td>531</td>\n",
       "      <td>1</td>\n",
       "      <td>2</td>\n",
       "      <td>Quick, Miss. Phyllis May</td>\n",
       "      <td>female</td>\n",
       "      <td>2.0</td>\n",
       "      <td>1</td>\n",
       "      <td>1</td>\n",
       "      <td>26360</td>\n",
       "      <td>26.0000</td>\n",
       "      <td>NaN</td>\n",
       "      <td>S</td>\n",
       "      <td>1</td>\n",
       "      <td>2</td>\n",
       "      <td>-1</td>\n",
       "    </tr>\n",
       "    <tr>\n",
       "      <th>373</th>\n",
       "      <td>374</td>\n",
       "      <td>0</td>\n",
       "      <td>1</td>\n",
       "      <td>Ringhini, Mr. Sante</td>\n",
       "      <td>male</td>\n",
       "      <td>22.0</td>\n",
       "      <td>0</td>\n",
       "      <td>0</td>\n",
       "      <td>PC 17760</td>\n",
       "      <td>135.6333</td>\n",
       "      <td>NaN</td>\n",
       "      <td>C</td>\n",
       "      <td>0</td>\n",
       "      <td>0</td>\n",
       "      <td>-1</td>\n",
       "    </tr>\n",
       "    <tr>\n",
       "      <th>49</th>\n",
       "      <td>50</td>\n",
       "      <td>0</td>\n",
       "      <td>3</td>\n",
       "      <td>Arnold-Franchi, Mrs. Josef (Josefine Franchi)</td>\n",
       "      <td>female</td>\n",
       "      <td>18.0</td>\n",
       "      <td>1</td>\n",
       "      <td>0</td>\n",
       "      <td>349237</td>\n",
       "      <td>17.8000</td>\n",
       "      <td>NaN</td>\n",
       "      <td>S</td>\n",
       "      <td>1</td>\n",
       "      <td>1</td>\n",
       "      <td>-2</td>\n",
       "    </tr>\n",
       "    <tr>\n",
       "      <th>701</th>\n",
       "      <td>702</td>\n",
       "      <td>1</td>\n",
       "      <td>1</td>\n",
       "      <td>Silverthorne, Mr. Spencer Victor</td>\n",
       "      <td>male</td>\n",
       "      <td>35.0</td>\n",
       "      <td>0</td>\n",
       "      <td>0</td>\n",
       "      <td>PC 17475</td>\n",
       "      <td>26.2875</td>\n",
       "      <td>E24</td>\n",
       "      <td>S</td>\n",
       "      <td>0</td>\n",
       "      <td>0</td>\n",
       "      <td>-1</td>\n",
       "    </tr>\n",
       "    <tr>\n",
       "      <th>152</th>\n",
       "      <td>153</td>\n",
       "      <td>0</td>\n",
       "      <td>3</td>\n",
       "      <td>Meo, Mr. Alfonzo</td>\n",
       "      <td>male</td>\n",
       "      <td>55.5</td>\n",
       "      <td>0</td>\n",
       "      <td>0</td>\n",
       "      <td>A.5. 11206</td>\n",
       "      <td>8.0500</td>\n",
       "      <td>NaN</td>\n",
       "      <td>S</td>\n",
       "      <td>0</td>\n",
       "      <td>0</td>\n",
       "      <td>-3</td>\n",
       "    </tr>\n",
       "    <tr>\n",
       "      <th>480</th>\n",
       "      <td>481</td>\n",
       "      <td>0</td>\n",
       "      <td>3</td>\n",
       "      <td>Goodwin, Master. Harold Victor</td>\n",
       "      <td>male</td>\n",
       "      <td>9.0</td>\n",
       "      <td>5</td>\n",
       "      <td>2</td>\n",
       "      <td>CA 2144</td>\n",
       "      <td>46.9000</td>\n",
       "      <td>NaN</td>\n",
       "      <td>S</td>\n",
       "      <td>0</td>\n",
       "      <td>7</td>\n",
       "      <td>-3</td>\n",
       "    </tr>\n",
       "    <tr>\n",
       "      <th>423</th>\n",
       "      <td>424</td>\n",
       "      <td>0</td>\n",
       "      <td>3</td>\n",
       "      <td>Danbom, Mrs. Ernst Gilbert (Anna Sigrid Maria ...</td>\n",
       "      <td>female</td>\n",
       "      <td>28.0</td>\n",
       "      <td>1</td>\n",
       "      <td>1</td>\n",
       "      <td>347080</td>\n",
       "      <td>14.4000</td>\n",
       "      <td>NaN</td>\n",
       "      <td>S</td>\n",
       "      <td>1</td>\n",
       "      <td>2</td>\n",
       "      <td>-2</td>\n",
       "    </tr>\n",
       "    <tr>\n",
       "      <th>121</th>\n",
       "      <td>122</td>\n",
       "      <td>0</td>\n",
       "      <td>3</td>\n",
       "      <td>Moore, Mr. Leonard Charles</td>\n",
       "      <td>male</td>\n",
       "      <td>28.0</td>\n",
       "      <td>0</td>\n",
       "      <td>0</td>\n",
       "      <td>A4. 54510</td>\n",
       "      <td>8.0500</td>\n",
       "      <td>NaN</td>\n",
       "      <td>S</td>\n",
       "      <td>0</td>\n",
       "      <td>0</td>\n",
       "      <td>-3</td>\n",
       "    </tr>\n",
       "    <tr>\n",
       "      <th>504</th>\n",
       "      <td>505</td>\n",
       "      <td>1</td>\n",
       "      <td>1</td>\n",
       "      <td>Maioni, Miss. Roberta</td>\n",
       "      <td>female</td>\n",
       "      <td>16.0</td>\n",
       "      <td>0</td>\n",
       "      <td>0</td>\n",
       "      <td>110152</td>\n",
       "      <td>86.5000</td>\n",
       "      <td>B79</td>\n",
       "      <td>S</td>\n",
       "      <td>1</td>\n",
       "      <td>0</td>\n",
       "      <td>0</td>\n",
       "    </tr>\n",
       "  </tbody>\n",
       "</table>\n",
       "</div>"
      ],
      "text/plain": [
       "     PassengerId  Survived  Pclass  \\\n",
       "772          773         0       2   \n",
       "530          531         1       2   \n",
       "373          374         0       1   \n",
       "49            50         0       3   \n",
       "701          702         1       1   \n",
       "152          153         0       3   \n",
       "480          481         0       3   \n",
       "423          424         0       3   \n",
       "121          122         0       3   \n",
       "504          505         1       1   \n",
       "\n",
       "                                                  Name     Sex   Age  SibSp  \\\n",
       "772                                  Mack, Mrs. (Mary)  female  57.0      0   \n",
       "530                           Quick, Miss. Phyllis May  female   2.0      1   \n",
       "373                                Ringhini, Mr. Sante    male  22.0      0   \n",
       "49       Arnold-Franchi, Mrs. Josef (Josefine Franchi)  female  18.0      1   \n",
       "701                   Silverthorne, Mr. Spencer Victor    male  35.0      0   \n",
       "152                                   Meo, Mr. Alfonzo    male  55.5      0   \n",
       "480                     Goodwin, Master. Harold Victor    male   9.0      5   \n",
       "423  Danbom, Mrs. Ernst Gilbert (Anna Sigrid Maria ...  female  28.0      1   \n",
       "121                         Moore, Mr. Leonard Charles    male  28.0      0   \n",
       "504                              Maioni, Miss. Roberta  female  16.0      0   \n",
       "\n",
       "     Parch       Ticket      Fare Cabin Embarked  Sex_cat  Family  Formula  \n",
       "772      0  S.O./P.P. 3   10.5000   E77        S        1       0       -1  \n",
       "530      1        26360   26.0000   NaN        S        1       2       -1  \n",
       "373      0     PC 17760  135.6333   NaN        C        0       0       -1  \n",
       "49       0       349237   17.8000   NaN        S        1       1       -2  \n",
       "701      0     PC 17475   26.2875   E24        S        0       0       -1  \n",
       "152      0   A.5. 11206    8.0500   NaN        S        0       0       -3  \n",
       "480      2      CA 2144   46.9000   NaN        S        0       7       -3  \n",
       "423      1       347080   14.4000   NaN        S        1       2       -2  \n",
       "121      0    A4. 54510    8.0500   NaN        S        0       0       -3  \n",
       "504      0       110152   86.5000   B79        S        1       0        0  "
      ]
     },
     "execution_count": 203,
     "metadata": {},
     "output_type": "execute_result"
    }
   ],
   "source": [
    "df.sample(10)"
   ]
  },
  {
   "cell_type": "markdown",
   "metadata": {},
   "source": [
    "* Survival: czy przeżył (0 = nie, 1 = tak)\n",
    "* Pclass: klasa (1, 2, 3)\n",
    "* Name: imię i nazwisko\n",
    "* Sex: płeć\n",
    "* Age: wiek\n",
    "* SibSp: liczba rodzeństwa/małżonków na pokładzie statku \n",
    "* Parch: liczba rodziców/dzieci na pokładzie statku\n",
    "* Ticket: numer biletu\n",
    "* Fare: koszt biletu\n",
    "* Cabin: kabina\n",
    "* Embarked: port zaokrętowania (C = Cherbourg; Q = Queenstown; S = Southampton)"
   ]
  },
  {
   "cell_type": "code",
   "execution_count": 204,
   "metadata": {},
   "outputs": [],
   "source": [
    "X = df_train[['Pclass']].values\n",
    "y = df_train['Survived'].values"
   ]
  },
  {
   "cell_type": "code",
   "execution_count": 205,
   "metadata": {},
   "outputs": [
    {
     "data": {
      "text/plain": [
       "array([  7.8292,   7.    ,   9.6875,   8.6625,  12.2875,   9.225 ,\n",
       "         7.6292,  29.    ,   7.2292,  24.15  ,   7.8958,  26.    ,\n",
       "        82.2667,  61.175 ,  27.7208,  12.35  ,   7.225 ,   7.925 ,\n",
       "        59.4   ,   3.1708,  31.6833,  61.3792, 262.375 ,  14.5   ,\n",
       "        61.9792,  30.5   ,  21.6792,  31.5   ,  20.575 ,  23.45  ,\n",
       "        57.75  ,   8.05  ,   9.5   ,  56.4958,  13.4167,  26.55  ,\n",
       "         7.85  ,  13.    ,  52.5542,  29.7   ,   7.75  ,  76.2917,\n",
       "        15.9   ,  60.    ,  15.0333,  23.    , 263.    ,  15.5792,\n",
       "        29.125 ,   7.65  ,  16.1   ,  13.5   ,   7.725 ,  21.    ,\n",
       "         7.8792,  42.4   ,  28.5375, 211.5   ,  25.7   ,  15.2458,\n",
       "       221.7792,  10.7083,  14.4542,  13.9   ,   7.775 ,  52.    ,\n",
       "         7.7958,  78.85  ,   7.8542,  55.4417,   8.5167,  22.525 ,\n",
       "         7.8208,   8.7125,  15.0458,   7.7792,  31.6792,   7.2833,\n",
       "         6.4375,  16.7   ,  75.2417,  15.75  ,   7.25  ,  23.25  ,\n",
       "        28.5   ,  25.4667,  46.9   , 151.55  ,  18.    ,  51.8625,\n",
       "        83.1583,      nan,  12.1833,  31.3875,   7.55  ,  13.775 ,\n",
       "         7.7333,  22.025 ,  50.4958,  34.375 ,   8.9625,  39.    ,\n",
       "        36.75  ,  53.1   , 247.5208,  16.    ,  69.55  ,  32.5   ,\n",
       "       134.5   ,  10.5   ,   8.1125,  15.5   ,  14.4   , 227.525 ,\n",
       "        25.7417,   7.05  ,  73.5   ,  42.5   , 164.8667,  13.8583,\n",
       "        27.4458,  15.1   ,  65.    ,   6.4958,  71.2833,  75.25  ,\n",
       "       106.425 ,  30.    ,   7.8875,  27.75  , 136.7792,   9.325 ,\n",
       "        17.4   ,  12.7375,   0.    ,  20.2125,  39.6   ,   6.95  ,\n",
       "        81.8583,  41.5792,  45.5   ,   9.35  ,  93.5   ,  14.1083,\n",
       "         7.575 , 135.6333, 146.5208, 211.3375,  79.2   ,  15.7417,\n",
       "         7.5792, 512.3292,  63.3583,  51.4792,  15.55  ,  37.0042,\n",
       "        14.4583,  39.6875,  11.5   ,  50.    ,  12.875 ,  21.075 ,\n",
       "        39.4   ,  20.25  ,  47.1   ,  13.8625,   7.7208,  90.    ,\n",
       "       108.9   ,  22.3583])"
      ]
     },
     "execution_count": 205,
     "metadata": {},
     "output_type": "execute_result"
    }
   ],
   "source": [
    "df_test['Fare'].unique()"
   ]
  },
  {
   "cell_type": "code",
   "execution_count": 206,
   "metadata": {},
   "outputs": [],
   "source": [
    "\n",
    "df['Age'] = df['Age'].fillna(df['Age'].median())\n",
    "df['Sex_cat'] = df['Sex'].factorize()[0]\n",
    "df['Family'] = df['Parch'] + df['SibSp']\n",
    "df['Formula'] = - df['Pclass'] + df['Sex_cat']\n",
    "df['Fare'] = df['Fare'].fillna(df['Fare'].median())"
   ]
  },
  {
   "cell_type": "code",
   "execution_count": 207,
   "metadata": {},
   "outputs": [],
   "source": [
    "age = df[df['Age']!=np.nan]['Age']\n",
    "df['Age']= df['Age'].replace(np.nan,age.mean())\n",
    "\n",
    "age = df[df['Fare']!=np.nan]['Fare']\n",
    "df['Fare']= df['Fare'].replace(np.nan,age.mean())"
   ]
  },
  {
   "cell_type": "code",
   "execution_count": 208,
   "metadata": {},
   "outputs": [],
   "source": [
    "feats = ['Pclass', 'Sex_cat', 'Age', 'Fare']\n",
    "X = df[feats].values\n",
    "y = df_train['Survived'].values\n",
    "X_train, X_test, y_train, y_test = train_test_split(X, y, test_size =0.1)"
   ]
  },
  {
   "cell_type": "code",
   "execution_count": 209,
   "metadata": {},
   "outputs": [
    {
     "data": {
      "text/plain": [
       "0.8777777777777778"
      ]
     },
     "execution_count": 209,
     "metadata": {},
     "output_type": "execute_result"
    }
   ],
   "source": [
    "modelDTC = DecisionTreeClassifier(max_depth=7)\n",
    "modelDTC.fit(X_train, y_train)\n",
    "y_predDTC = modelDTC.predict(X_test)\n",
    "accuracy_score(y_test, y_predDTC)"
   ]
  },
  {
   "cell_type": "code",
   "execution_count": 210,
   "metadata": {},
   "outputs": [
    {
     "data": {
      "text/plain": [
       "0.8888888888888888"
      ]
     },
     "execution_count": 210,
     "metadata": {},
     "output_type": "execute_result"
    }
   ],
   "source": [
    "modelRFC= RandomForestClassifier(max_depth=10, n_estimators = 60)\n",
    "modelRFC.fit(X_train, y_train)\n",
    "y_predRFC = modelRFC.predict(X_test)\n",
    "accuracy_score(y_test, y_predRFC)"
   ]
  },
  {
   "cell_type": "code",
   "execution_count": 211,
   "metadata": {},
   "outputs": [],
   "source": [
    "df_test['Sex_cat'] = df_test['Sex'].factorize()[0]\n",
    "age = df[df['Age']!=np.nan]['Age']\n",
    "df_test['Age']= df_test['Age'].replace(np.nan,age.mean())\n",
    "\n",
    "age = df_test[df_test['Fare']!=np.nan]['Fare']\n",
    "df_test['Fare']= df_test['Fare'].replace(np.nan,age.mean())"
   ]
  },
  {
   "cell_type": "code",
   "execution_count": 212,
   "metadata": {},
   "outputs": [
    {
     "data": {
      "text/plain": [
       "array([34.5       , 47.        , 62.        , 27.        , 22.        ,\n",
       "       14.        , 30.        , 26.        , 18.        , 21.        ,\n",
       "       29.36158249, 46.        , 23.        , 63.        , 24.        ,\n",
       "       35.        , 45.        , 55.        ,  9.        , 48.        ,\n",
       "       50.        , 22.5       , 41.        , 33.        , 18.5       ,\n",
       "       25.        , 39.        , 60.        , 36.        , 20.        ,\n",
       "       28.        , 10.        , 17.        , 32.        , 13.        ,\n",
       "       31.        , 29.        , 28.5       , 32.5       ,  6.        ,\n",
       "       67.        , 49.        ,  2.        , 76.        , 43.        ,\n",
       "       16.        ,  1.        , 12.        , 42.        , 53.        ,\n",
       "       26.5       , 40.        , 61.        , 60.5       ,  7.        ,\n",
       "       15.        , 54.        , 64.        , 37.        , 34.        ,\n",
       "       11.5       ,  8.        ,  0.33      , 38.        , 57.        ,\n",
       "       40.5       ,  0.92      , 19.        , 36.5       ,  0.75      ,\n",
       "        0.83      , 58.        ,  0.17      , 59.        , 14.5       ,\n",
       "       44.        ,  5.        , 51.        ,  3.        , 38.5       ])"
      ]
     },
     "execution_count": 212,
     "metadata": {},
     "output_type": "execute_result"
    }
   ],
   "source": [
    "df_test['Age'].unique()"
   ]
  },
  {
   "cell_type": "code",
   "execution_count": 213,
   "metadata": {},
   "outputs": [],
   "source": [
    "X = df_test[feats].values\n",
    "df_test['Survived'] = modelRFC.predict(X)\n",
    "df_test[['PassengerId','Survived']].to_csv('output/RFC4.csv', index = False)"
   ]
  }
 ],
 "metadata": {
  "kernelspec": {
   "display_name": "Python 3",
   "language": "python",
   "name": "python3"
  },
  "language_info": {
   "codemirror_mode": {
    "name": "ipython",
    "version": 3
   },
   "file_extension": ".py",
   "mimetype": "text/x-python",
   "name": "python",
   "nbconvert_exporter": "python",
   "pygments_lexer": "ipython3",
   "version": "3.7.3"
  }
 },
 "nbformat": 4,
 "nbformat_minor": 2
}
